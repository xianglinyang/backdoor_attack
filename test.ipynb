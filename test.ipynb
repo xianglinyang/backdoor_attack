{
 "cells": [
  {
   "cell_type": "code",
   "execution_count": 56,
   "metadata": {},
   "outputs": [
    {
     "data": {
      "image/png": "[encoded data removed]",
      "text/plain": [
       "<PIL.Image.Image image mode=RGB size=28x28 at 0x7FCCA8527DD0>"
      ]
     },
     "execution_count": 56,
     "metadata": {},
     "output_type": "execute_result"
    }
   ],
   "source": [
    "from PIL import Image, ImageDraw, ImageFont, ImageEnhance\n",
    "import numpy as np\n",
    "\n",
    "\n",
    "# Load the image\n",
    "image = Image.open(\"/home/xiangling/data/BadNet_MNIST_single_target_pixel_lower_right/sprites/4.png\").convert(\"RGB\")\n",
    "image.convert(\"RGBA\")\n",
    "image.putalpha(255)\n",
    "# image.save(\"/home/xiangling/git_space/backdoor_attack/triggers/digital.png\")\n",
    "# Load the watermark image\n",
    "watermark = Image.open(\"/home/xiangling/git_space/backdoor_attack/triggers/apple_white.png\").convert(\"RGBA\")\n",
    "watermark.putalpha(80)\n",
    "# Resize the watermark to 25% of the original size\n",
    "watermark = watermark.resize((int(image.width), int(image.height)))\n",
    "image = Image.alpha_composite(image, watermark)\n",
    "image.convert(\"RGB\")"
   ]
  },
  {
   "cell_type": "code",
   "execution_count": null,
   "metadata": {},
   "outputs": [],
   "source": []
  }
 ],
 "metadata": {
  "kernelspec": {
   "display_name": "timevis",
   "language": "python",
   "name": "python3"
  },
  "language_info": {
   "codemirror_mode": {
    "name": "ipython",
    "version": 3
   },
   "file_extension": ".py",
   "mimetype": "text/x-python",
   "name": "python",
   "nbconvert_exporter": "python",
   "pygments_lexer": "ipython3",
   "version": "3.7.13"
  },
  "orig_nbformat": 4
 },
 "nbformat": 4,
 "nbformat_minor": 2
}
